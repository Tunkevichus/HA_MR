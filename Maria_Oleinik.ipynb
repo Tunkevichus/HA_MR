{
  "nbformat": 4,
  "nbformat_minor": 0,
  "metadata": {
    "colab": {
      "provenance": [],
      "collapsed_sections": []
    },
    "kernelspec": {
      "name": "python3",
      "display_name": "Python 3"
    }
  },
  "cells": [
    {
      "cell_type": "markdown",
      "metadata": {
        "id": "wsdUnHRK50gp"
      },
      "source": [
        "## Пример того, как работает ЦПТ"
      ]
    },
    {
      "cell_type": "markdown",
      "source": [
        "## Задание\n",
        "1. Придумать любую свою форму распределения. Можно в виде котика 😺\n",
        "2. Рассчитать 95% доверительный интервал выборочного среднего методом Стьюдента\n",
        "3. Определить, для какого процента экспериментов из 1 млн истинное 𝝁 не попадает в ДИ\n",
        "4. Отличается ли это число от 5% и почему?\n",
        "\n"
      ],
      "metadata": {
        "id": "TdPHMyFLA5bo"
      }
    },
    {
      "cell_type": "code",
      "metadata": {
        "id": "JsMWnyG9inaQ"
      },
      "source": [
        "from scipy.stats import lognorm, t\n",
        "import numpy as np\n",
        "import pylab as pl\n",
        "import matplotlib.pyplot as plt\n",
        "from random import choices"
      ],
      "execution_count": 27,
      "outputs": []
    },
    {
      "cell_type": "code",
      "metadata": {
        "id": "5m7nIo9gkqg_"
      },
      "source": [
        "stddev = 0.5\n",
        "mean = 5\n",
        "dist=lognorm([stddev],loc=mean)\n",
        "def ramp(x):\n",
        "   return 0.5*(dist.pdf(x)+dist.pdf(xmax-x))\n",
        "  \n",
        "def roof(x):\n",
        "  if 7<x<=10:\n",
        "    return 13-x\n",
        "  elif 4.0<x<=5.5:\n",
        "    return 6.2\n",
        "  elif 0<=x<=7:\n",
        "    return 0.5*x+2.5"
      ],
      "execution_count": 20,
      "outputs": []
    },
    {
      "cell_type": "code",
      "metadata": {
        "id": "nF4TJOFui3yy",
        "outputId": "8c83ce3c-ecf1-4ae0-f5ac-191efca8f064",
        "colab": {
          "base_uri": "https://localhost:8080/",
          "height": 282
        }
      },
      "source": [
        "xmax=10\n",
        "x=np.linspace(0,xmax,1000)\n",
        "yramp=ramp(x) \n",
        "pl.plot(x,yramp)"
      ],
      "execution_count": 44,
      "outputs": [
        {
          "output_type": "execute_result",
          "data": {
            "text/plain": [
              "[<matplotlib.lines.Line2D at 0x7f603824ddd0>]"
            ]
          },
          "metadata": {},
          "execution_count": 44
        },
        {
          "output_type": "display_data",
          "data": {
            "text/plain": [
              "<Figure size 432x288 with 1 Axes>"
            ],
            "image/png": "[encoded data removed]"
          },
          "metadata": {
            "needs_background": "light"
          }
        }
      ]
    },
    {
      "cell_type": "code",
      "metadata": {
        "id": "TRpL6-t7Jpfb",
        "outputId": "62e34931-a820-4761-b385-6f4eabff4caf",
        "colab": {
          "base_uri": "https://localhost:8080/",
          "height": 282
        }
      },
      "source": [
        "yroof=[roof(x1) for x1 in x]\n",
        "pl.plot(x,yroof)"
      ],
      "execution_count": 22,
      "outputs": [
        {
          "output_type": "execute_result",
          "data": {
            "text/plain": [
              "[<matplotlib.lines.Line2D at 0x7f6036e76f50>]"
            ]
          },
          "metadata": {},
          "execution_count": 22
        },
        {
          "output_type": "display_data",
          "data": {
            "text/plain": [
              "<Figure size 432x288 with 1 Axes>"
            ],
            "image/png": "[encoded data removed]"
          },
          "metadata": {
            "needs_background": "light"
          }
        }
      ]
    },
    {
      "cell_type": "code",
      "metadata": {
        "id": "6DPDzuHzkKY1"
      },
      "source": [
        "nElements=30\n",
        "nsamples = 10**6"
      ],
      "execution_count": 5,
      "outputs": []
    },
    {
      "cell_type": "code",
      "metadata": {
        "id": "qLI5oGGYrDZU",
        "outputId": "14b6dde7-0ebd-4beb-8168-906618e79e1c",
        "colab": {
          "base_uri": "https://localhost:8080/",
          "height": 456
        }
      },
      "source": [
        "d_ramp=[np.mean(choices(x, yramp, k=nElements)) for i in range(nsamples)] \n",
        "print(np.mean(d_ramp),np.std(d_ramp, ddof=0))\n",
        "plt.hist(d_ramp, bins=20)"
      ],
      "execution_count": 26,
      "outputs": [
        {
          "output_type": "stream",
          "name": "stdout",
          "text": [
            "5.00016628028028 0.2332331792329346\n"
          ]
        },
        {
          "output_type": "execute_result",
          "data": {
            "text/plain": [
              "(array([1.20000e+01, 7.30000e+01, 4.21000e+02, 2.31900e+03, 8.21200e+03,\n",
              "        2.45090e+04, 5.78350e+04, 1.08396e+05, 1.60397e+05, 1.89278e+05,\n",
              "        1.78665e+05, 1.33252e+05, 7.96570e+04, 3.75600e+04, 1.41590e+04,\n",
              "        4.10500e+03, 9.36000e+02, 1.83000e+02, 2.70000e+01, 4.00000e+00]),\n",
              " array([3.90256924, 4.01536537, 4.12816149, 4.24095762, 4.35375375,\n",
              "        4.46654988, 4.57934601, 4.69214214, 4.80493827, 4.9177344 ,\n",
              "        5.03053053, 5.14332666, 5.25612279, 5.36891892, 5.48171505,\n",
              "        5.59451118, 5.70730731, 5.82010344, 5.93289957, 6.0456957 ,\n",
              "        6.15849183]),\n",
              " <a list of 20 Patch objects>)"
            ]
          },
          "metadata": {},
          "execution_count": 26
        },
        {
          "output_type": "display_data",
          "data": {
            "text/plain": [
              "<Figure size 432x288 with 1 Axes>"
            ],
            "image/png": "[encoded data removed]"
          },
          "metadata": {
            "needs_background": "light"
          }
        }
      ]
    },
    {
      "cell_type": "code",
      "metadata": {
        "id": "FNymVyXlwEVe",
        "outputId": "94eb03b5-1ebd-4ae5-9a58-a4cd46a102ed",
        "colab": {
          "base_uri": "https://localhost:8080/",
          "height": 456
        }
      },
      "source": [
        "d_roof=[np.mean(choices(x, yroof, k=nElements)) for i in range(nsamples)]\n",
        "print(np.mean(d_roof),np.std(d_roof, ddof=0))\n",
        "plt.hist(d_roof, bins=20)"
      ],
      "execution_count": 28,
      "outputs": [
        {
          "output_type": "stream",
          "name": "stdout",
          "text": [
            "5.309865259259259 0.4718665976870768\n"
          ]
        },
        {
          "output_type": "execute_result",
          "data": {
            "text/plain": [
              "(array([7.00000e+00, 6.00000e+01, 3.18000e+02, 1.55300e+03, 5.84700e+03,\n",
              "        1.76420e+04, 4.36140e+04, 8.59060e+04, 1.36447e+05, 1.76560e+05,\n",
              "        1.83629e+05, 1.53453e+05, 1.04011e+05, 5.61840e+04, 2.40710e+04,\n",
              "        8.11400e+03, 2.12000e+03, 4.04000e+02, 5.60000e+01, 4.00000e+00]),\n",
              " array([3.05238572, 3.27449116, 3.4965966 , 3.71870204, 3.94080747,\n",
              "        4.16291291, 4.38501835, 4.60712379, 4.82922923, 5.05133467,\n",
              "        5.27344011, 5.49554555, 5.71765098, 5.93975642, 6.16186186,\n",
              "        6.3839673 , 6.60607274, 6.82817818, 7.05028362, 7.27238906,\n",
              "        7.49449449]),\n",
              " <a list of 20 Patch objects>)"
            ]
          },
          "metadata": {},
          "execution_count": 28
        },
        {
          "output_type": "display_data",
          "data": {
            "text/plain": [
              "<Figure size 432x288 with 1 Axes>"
            ],
            "image/png": "[encoded data removed]"
          },
          "metadata": {
            "needs_background": "light"
          }
        }
      ]
    },
    {
      "cell_type": "markdown",
      "source": [
        "Рассчитать 95% доверительный интервал выборочного среднего методом Стьюдента"
      ],
      "metadata": {
        "id": "ITQ-R_5krPS2"
      }
    },
    {
      "cell_type": "code",
      "source": [
        "t_value = t.ppf(1-0.05/2, 29)\n",
        "print(t_value)"
      ],
      "metadata": {
        "colab": {
          "base_uri": "https://localhost:8080/"
        },
        "id": "WiMzmLlWmx8f",
        "outputId": "4738b3b1-e44e-4f7d-954f-b1e63a8ae160"
      },
      "execution_count": 40,
      "outputs": [
        {
          "output_type": "stream",
          "name": "stdout",
          "text": [
            "2.045229642132703\n"
          ]
        }
      ]
    },
    {
      "cell_type": "code",
      "source": [
        "x1 = np.mean(d_ramp)-t_value\n",
        "x2 = np.mean(d_ramp)+t_value\n",
        "print(f\"Доверительный интервал: ({x1}, {x2})\")"
      ],
      "metadata": {
        "colab": {
          "base_uri": "https://localhost:8080/"
        },
        "id": "DcdoWLlizD-T",
        "outputId": "c05491b3-79b7-4abb-92f6-22caae50ade8"
      },
      "execution_count": 41,
      "outputs": [
        {
          "output_type": "stream",
          "name": "stdout",
          "text": [
            "Доверительный интервал: (2.954936638147577, 7.0453959224129825)\n"
          ]
        }
      ]
    },
    {
      "cell_type": "markdown",
      "source": [
        "Определить, для какого процента экспериментов из 1 млн истинное 𝝁 не попадает в ДИ"
      ],
      "metadata": {
        "id": "3T4H0aHfy5Pj"
      }
    },
    {
      "cell_type": "code",
      "source": [
        "count_value = 0\n",
        "\n",
        "for _ in range(nsamples):\n",
        "  ramp = choices(x, yramp, k=nElements)\n",
        "  mean_ramp = np.mean(ramp)\n",
        "  if (mean < (mean_ramp - t_value)) or (mean > (mean_ramp + t_value)):\n",
        "    count_value += 1"
      ],
      "metadata": {
        "id": "VURK9EiR07L7"
      },
      "execution_count": 45,
      "outputs": []
    },
    {
      "cell_type": "code",
      "source": [
        "print(count_value)"
      ],
      "metadata": {
        "colab": {
          "base_uri": "https://localhost:8080/"
        },
        "id": "ablO-IKRyfKf",
        "outputId": "5491b1ac-7c71-429e-f6ff-04b1cfcb947d"
      },
      "execution_count": 46,
      "outputs": [
        {
          "output_type": "stream",
          "name": "stdout",
          "text": [
            "0\n"
          ]
        }
      ]
    },
    {
      "cell_type": "markdown",
      "source": [
        "Отличается ли это число от 5% и почему?"
      ],
      "metadata": {
        "id": "xN3oefLW2MQF"
      }
    },
    {
      "cell_type": "markdown",
      "source": [
        "Отличается, потому что исходное распределение не является нормальным."
      ],
      "metadata": {
        "id": "tyM9sIuD2OvN"
      }
    }
  ]
}