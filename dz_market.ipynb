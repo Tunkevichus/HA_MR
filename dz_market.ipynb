{
 "cells": [
  {
   "cell_type": "markdown",
   "metadata": {
    "id": "wsdUnHRK50gp"
   },
   "source": [
    "## Пример того, как работает ЦПТ"
   ]
  },
  {
   "cell_type": "markdown",
   "metadata": {
    "id": "TdPHMyFLA5bo"
   },
   "source": [
    "## Задание\n",
    "1. Придумать любую свою форму распределения. Можно в виде котика 😺\n",
    "2. Рассчитать 95% доверительный интервал выборочного среднего методом Стьюдента\n",
    "3. Определить, для какого процента экспериментов из 1 млн истинное 𝝁 не попадает в ДИ\n",
    "4. Отличается ли это число от 5% и почему?\n",
    "\n"
   ]
  },
  {
   "cell_type": "code",
   "execution_count": null,
   "metadata": {
    "id": "JsMWnyG9inaQ"
   },
   "outputs": [],
   "source": [
    "from scipy.stats import lognorm, t\n",
    "import numpy as np\n",
    "import pylab as pl\n",
    "import matplotlib.pyplot as plt\n",
    "from random import choices"
   ]
  },
  {
   "cell_type": "code",
   "execution_count": null,
   "metadata": {
    "id": "5m7nIo9gkqg_"
   },
   "outputs": [],
   "source": [
    "stddev = 0.5\n",
    "mean = 5\n",
    "dist=lognorm([stddev],loc=mean)\n",
    "def ramp(x):\n",
    "   return 0.5*(dist.pdf(x)+dist.pdf(xmax-x))\n",
    "  \n",
    "def roof(x):\n",
    "  if 7<x<=10:\n",
    "    return 13-x\n",
    "  elif 4.0<x<=5.5:\n",
    "    return 6.2\n",
    "  elif 0<=x<=7:\n",
    "    return 0.5*x+2.5"
   ]
  },
  {
   "cell_type": "code",
   "execution_count": null,
   "metadata": {
    "colab": {
     "base_uri": "https://localhost:8080/",
     "height": 282
    },
    "id": "nF4TJOFui3yy",
    "outputId": "8c83ce3c-ecf1-4ae0-f5ac-191efca8f064"
   },
   "outputs": [],
   "source": [
    "xmax=10\n",
    "x=np.linspace(0,xmax,1000)\n",
    "yramp=ramp(x) \n",
    "pl.plot(x,yramp)"
   ]
  },
  {
   "cell_type": "code",
   "execution_count": null,
   "metadata": {
    "colab": {
     "base_uri": "https://localhost:8080/",
     "height": 282
    },
    "id": "TRpL6-t7Jpfb",
    "outputId": "62e34931-a820-4761-b385-6f4eabff4caf"
   },
   "outputs": [],
   "source": [
    "yroof=[roof(x1) for x1 in x]\n",
    "pl.plot(x,yroof)"
   ]
  },
  {
   "cell_type": "code",
   "execution_count": null,
   "metadata": {
    "id": "6DPDzuHzkKY1"
   },
   "outputs": [],
   "source": [
    "nElements=30\n",
    "nsamples = 10**6"
   ]
  },
  {
   "cell_type": "code",
   "execution_count": null,
   "metadata": {
    "colab": {
     "base_uri": "https://localhost:8080/",
     "height": 456
    },
    "id": "qLI5oGGYrDZU",
    "outputId": "14b6dde7-0ebd-4beb-8168-906618e79e1c"
   },
   "outputs": [],
   "source": [
    "d_ramp=[np.mean(choices(x, yramp, k=nElements)) for i in range(nsamples)] \n",
    "print(np.mean(d_ramp),np.std(d_ramp, ddof=0))\n",
    "plt.hist(d_ramp, bins=20)"
   ]
  },
  {
   "cell_type": "code",
   "execution_count": null,
   "metadata": {
    "colab": {
     "base_uri": "https://localhost:8080/",
     "height": 456
    },
    "id": "FNymVyXlwEVe",
    "outputId": "94eb03b5-1ebd-4ae5-9a58-a4cd46a102ed"
   },
   "outputs": [],
   "source": [
    "d_roof=[np.mean(choices(x, yroof, k=nElements)) for i in range(nsamples)]\n",
    "print(np.mean(d_roof),np.std(d_roof, ddof=0))\n",
    "plt.hist(d_roof, bins=20)"
   ]
  },
  {
   "cell_type": "markdown",
   "metadata": {
    "id": "ITQ-R_5krPS2"
   },
   "source": [
    "Рассчитать 95% доверительный интервал выборочного среднего методом Стьюдента"
   ]
  },
  {
   "cell_type": "code",
   "execution_count": null,
   "metadata": {
    "colab": {
     "base_uri": "https://localhost:8080/"
    },
    "id": "WiMzmLlWmx8f",
    "outputId": "4738b3b1-e44e-4f7d-954f-b1e63a8ae160"
   },
   "outputs": [],
   "source": [
    "student = t.ppf(1-0.05/2, 29)\n",
    "print(student)"
   ]
  },
  {
   "cell_type": "code",
   "execution_count": null,
   "metadata": {
    "colab": {
     "base_uri": "https://localhost:8080/"
    },
    "id": "DcdoWLlizD-T",
    "outputId": "c05491b3-79b7-4abb-92f6-22caae50ade8"
   },
   "outputs": [],
   "source": [
    "a = np.mean(d_ramp)-student\n",
    "b = np.mean(d_ramp)+student\n",
    "print(f\"Доверительный интервал: ({a}, {b})\")"
   ]
  },
  {
   "cell_type": "markdown",
   "metadata": {
    "id": "3T4H0aHfy5Pj"
   },
   "source": [
    "Определить, для какого процента экспериментов из 1 млн истинное 𝝁 не попадает в ДИ"
   ]
  },
  {
   "cell_type": "code",
   "execution_count": null,
   "metadata": {
    "id": "VURK9EiR07L7"
   },
   "outputs": [],
   "source": [
    "c_v = 0\n",
    "\n",
    "for _ in range(nsamples):\n",
    "  ramp = choices(x, yramp, k=nElements)\n",
    "  mean_ramp = np.mean(ramp)\n",
    "  if (mean < (mean_ramp - student)) or (mean > (mean_ramp + student)):\n",
    "    c_v += 1"
   ]
  },
  {
   "cell_type": "code",
   "execution_count": null,
   "metadata": {
    "colab": {
     "base_uri": "https://localhost:8080/"
    },
    "id": "ablO-IKRyfKf",
    "outputId": "5491b1ac-7c71-429e-f6ff-04b1cfcb947d"
   },
   "outputs": [],
   "source": [
    "print(c_v)"
   ]
  },
  {
   "cell_type": "markdown",
   "metadata": {
    "id": "xN3oefLW2MQF"
   },
   "source": [
    "Отличается ли это число от 5% и почему?"
   ]
  },
  {
   "cell_type": "markdown",
   "metadata": {
    "id": "tyM9sIuD2OvN"
   },
   "source": [
    "Данное число отличается, так как исходное распределение не является нормальным"
   ]
  }
 ],
 "metadata": {
  "colab": {
   "collapsed_sections": [],
   "provenance": []
  },
  "kernelspec": {
   "display_name": "Python 3 (ipykernel)",
   "language": "python",
   "name": "python3"
  },
  "language_info": {
   "codemirror_mode": {
    "name": "ipython",
    "version": 3
   },
   "file_extension": ".py",
   "mimetype": "text/x-python",
   "name": "python",
   "nbconvert_exporter": "python",
   "pygments_lexer": "ipython3",
   "version": "3.9.7"
  }
 },
 "nbformat": 4,
 "nbformat_minor": 1
}
